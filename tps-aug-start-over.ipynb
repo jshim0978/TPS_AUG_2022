{
 "cells": [
  {
   "cell_type": "code",
   "execution_count": 1,
   "id": "7bec3716",
   "metadata": {
    "_cell_guid": "b1076dfc-b9ad-4769-8c92-a6c4dae69d19",
    "_kg_hide-input": true,
    "_kg_hide-output": true,
    "_uuid": "8f2839f25d086af736a60e9eeb907d3b93b6e0e5",
    "execution": {
     "iopub.execute_input": "2022-08-25T03:53:50.460146Z",
     "iopub.status.busy": "2022-08-25T03:53:50.459486Z",
     "iopub.status.idle": "2022-08-25T03:54:01.864917Z",
     "shell.execute_reply": "2022-08-25T03:54:01.863940Z"
    },
    "papermill": {
     "duration": 11.413407,
     "end_time": "2022-08-25T03:54:01.867774",
     "exception": false,
     "start_time": "2022-08-25T03:53:50.454367",
     "status": "completed"
    },
    "tags": []
   },
   "outputs": [
    {
     "data": {
      "text/html": [
       "<style type='text/css'>\n",
       ".datatable table.frame { margin-bottom: 0; }\n",
       ".datatable table.frame thead { border-bottom: none; }\n",
       ".datatable table.frame tr.coltypes td {  color: #FFFFFF;  line-height: 6px;  padding: 0 0.5em;}\n",
       ".datatable .bool    { background: #DDDD99; }\n",
       ".datatable .object  { background: #565656; }\n",
       ".datatable .int     { background: #5D9E5D; }\n",
       ".datatable .float   { background: #4040CC; }\n",
       ".datatable .str     { background: #CC4040; }\n",
       ".datatable .time    { background: #40CC40; }\n",
       ".datatable .row_index {  background: var(--jp-border-color3);  border-right: 1px solid var(--jp-border-color0);  color: var(--jp-ui-font-color3);  font-size: 9px;}\n",
       ".datatable .frame tbody td { text-align: left; }\n",
       ".datatable .frame tr.coltypes .row_index {  background: var(--jp-border-color0);}\n",
       ".datatable th:nth-child(2) { padding-left: 12px; }\n",
       ".datatable .hellipsis {  color: var(--jp-cell-editor-border-color);}\n",
       ".datatable .vellipsis {  background: var(--jp-layout-color0);  color: var(--jp-cell-editor-border-color);}\n",
       ".datatable .na {  color: var(--jp-cell-editor-border-color);  font-size: 80%;}\n",
       ".datatable .sp {  opacity: 0.25;}\n",
       ".datatable .footer { font-size: 9px; }\n",
       ".datatable .frame_dimensions {  background: var(--jp-border-color3);  border-top: 1px solid var(--jp-border-color0);  color: var(--jp-ui-font-color3);  display: inline-block;  opacity: 0.6;  padding: 1px 10px 1px 5px;}\n",
       "</style>\n"
      ],
      "text/plain": [
       "<IPython.core.display.HTML object>"
      ]
     },
     "metadata": {},
     "output_type": "display_data"
    }
   ],
   "source": [
    "import numpy as np\n",
    "import pandas as pd\n",
    "from itertools import cycle, islice\n",
    "import matplotlib.pylab as plt\n",
    "import seaborn as sns\n",
    "from sklearn.model_selection import StratifiedShuffleSplit, StratifiedKFold\n",
    "from sklearn.model_selection import train_test_split\n",
    "from xgboost import XGBClassifier, XGBRegressor\n",
    "from sklearn.metrics import roc_auc_score\n",
    "from lightgbm import LGBMClassifier, LGBMRegressor\n",
    "from sklearn import preprocessing\n",
    "from sklearn.linear_model import LogisticRegression\n",
    "from sklearn.impute import SimpleImputer, KNNImputer\n",
    "from sklearn.model_selection import GroupKFold\n",
    "import math\n",
    "\n",
    "from sklearn.preprocessing import StandardScaler\n",
    "\n",
    "plt.style.use(\"fivethirtyeight\")\n",
    "color_pal = plt.rcParams[\"axes.prop_cycle\"].by_key()[\"color\"]\n",
    "color_cycle = cycle(plt.rcParams[\"axes.prop_cycle\"].by_key()[\"color\"])\n",
    "\n",
    "train_df = pd.read_csv(\"../input/tabular-playground-series-aug-2022/train.csv\", index_col='id')\n",
    "test_df = pd.read_csv('../input/tabular-playground-series-aug-2022/test.csv', index_col='id')\n",
    "\n",
    "\n",
    "def data_process(train, test):\n",
    "    train['isTrain'] = True\n",
    "    test['isTrain'] = False\n",
    "\n",
    "    data = pd.concat([train, test])\n",
    "\n",
    "    data['isM3'] = data.measurement_3.isna()\n",
    "    data['isM5'] = data.measurement_5.isna()\n",
    "    data['isM3andM5'] = data['isM3'] * data['isM5']\n",
    "\n",
    "    materials = ['attribute_0', 'attribute_1']\n",
    "\n",
    "    for col in materials:\n",
    "        dummies = pd.get_dummies(data[col], prefix=col)\n",
    "        data = data.merge(dummies, left_index=True, right_index=True)\n",
    "    data = data.drop(materials, axis=1)\n",
    "\n",
    "    data = data.drop('attribute_0_material_5', axis=1)\n",
    "\n",
    "    data['area'] = data['attribute_2'] * data['attribute_3']\n",
    "    data = data.drop(['attribute_2', 'attribute_3'], axis=1)\n",
    "\n",
    "    data['loading'] = data['loading'].fillna(data['loading'].mean())\n",
    "\n",
    "    data['round_loading'] = data['loading'].apply(lambda x: math.floor(x / 10) * 10)\n",
    "\n",
    "    features = [a for a in test.columns if a.startswith('measurement')]\n",
    "    frames = []\n",
    "\n",
    "    for code in data.product_code.unique():\n",
    "        df = data[data.product_code == code].copy()\n",
    "        imputer = KNNImputer(n_neighbors=7)\n",
    "        imputer.fit(df[features])\n",
    "        df[features] = imputer.transform(df[features])\n",
    "        frames.append(df)\n",
    "\n",
    "    data = pd.concat(frames)\n",
    "\n",
    "    data['m3*m5'] = data['measurement_3'] * data['measurement_5']\n",
    "\n",
    "    data['measurement_avg'] = data[[f'measurement_{i}' for i in range(3, 17)]].mean(axis=1)\n",
    "    data = data.drop([f'measurement_{i}' for i in range(3, 17)], axis=1)\n",
    "\n",
    "    scaler = StandardScaler()\n",
    "\n",
    "    columns = [a for a in data.columns if a not in ['product_code', 'isTrain', 'failure', 'isM3', 'isM5']]\n",
    "    data[columns] = scaler.fit_transform(data[columns])\n",
    "\n",
    "    tr_df = data[data['isTrain'] == True].drop('isTrain', axis=1)\n",
    "    ts_df = data[data['isTrain'] == False].drop(['isTrain', 'failure'], axis=1)\n",
    "\n",
    "    return tr_df, ts_df\n",
    "\n",
    "\n",
    "train_df, test_df = data_process(train_df, test_df)\n",
    "\n",
    "train_list = []\n",
    "test_list = []\n",
    "\n",
    "train_df['cat_failure'] = train_df['product_code'].astype(str) + train_df['failure'].astype(str)\n",
    "\n",
    "kfold = StratifiedKFold(n_splits=10, random_state=11, shuffle=True)\n",
    "X = train_df.drop('cat_failure', axis=1)\n",
    "y = train_df.cat_failure\n",
    "for train_index, test_index in kfold.split(X, y):\n",
    "    X_train, X_test = X.iloc[train_index], X.iloc[test_index]\n",
    "    y_train, y_test = X.iloc[train_index].failure, X.iloc[test_index].failure\n",
    "\n",
    "    train_list.append((X_train, y_train))\n",
    "    test_list.append((X_test, y_test))\n"
   ]
  },
  {
   "cell_type": "code",
   "execution_count": 2,
   "id": "2e0d9e96",
   "metadata": {
    "execution": {
     "iopub.execute_input": "2022-08-25T03:54:01.875241Z",
     "iopub.status.busy": "2022-08-25T03:54:01.874386Z",
     "iopub.status.idle": "2022-08-25T03:54:30.799514Z",
     "shell.execute_reply": "2022-08-25T03:54:30.798056Z"
    },
    "papermill": {
     "duration": 28.93161,
     "end_time": "2022-08-25T03:54:30.802315",
     "exception": false,
     "start_time": "2022-08-25T03:54:01.870705",
     "status": "completed"
    },
    "tags": []
   },
   "outputs": [
    {
     "name": "stdout",
     "output_type": "stream",
     "text": [
      "FOLD 0: 0.5968181101039763\n",
      "FOLD 1: 0.5901184461545239\n",
      "FOLD 2: 0.589373392564882\n",
      "FOLD 3: 0.6022896314293169\n",
      "FOLD 4: 0.5987876275402291\n",
      "FOLD 5: 0.5836151232017414\n",
      "FOLD 6: 0.6078304630479272\n",
      "FOLD 7: 0.5560060237905886\n",
      "FOLD 8: 0.5765496752868173\n",
      "FOLD 9: 0.6110683004564406\n",
      "\n",
      " Total Average: 0.5912456793576444\n"
     ]
    }
   ],
   "source": [
    "scores = []\n",
    "test_predictions = []\n",
    "\n",
    "for i in range(10):\n",
    "    y_train = train_list[i][1]\n",
    "    X_train = train_list[i][0].drop(['product_code', 'failure'], axis=1)\n",
    "\n",
    "    y_test = test_list[i][1]\n",
    "    X_test = test_list[i][0].drop(['product_code', 'failure'], axis=1)\n",
    "\n",
    "    model = XGBRegressor(n_estimators=100, booster='gblinear',learning_rate = 0.3, reg_lambda=0.2, updater='coord_descent',\n",
    "                         feature_selector='greedy')\n",
    "    # Fit model\n",
    "    model.fit(X_train, y_train, verbose=0)\n",
    "    # Get predictions\n",
    "    score = roc_auc_score(y_test, model.predict(X_test))\n",
    "    scores.append(score)\n",
    "\n",
    "    test_predictions.append(model.predict(test_df.drop('product_code', axis=1)))\n",
    "\n",
    "    print(f'FOLD {i}: {score}')\n",
    "\n",
    "print('')\n",
    "print(f' Total Average: {np.mean(scores)}')"
   ]
  },
  {
   "cell_type": "code",
   "execution_count": 3,
   "id": "5e3775cc",
   "metadata": {
    "execution": {
     "iopub.execute_input": "2022-08-25T03:54:30.810872Z",
     "iopub.status.busy": "2022-08-25T03:54:30.810550Z",
     "iopub.status.idle": "2022-08-25T03:55:06.352952Z",
     "shell.execute_reply": "2022-08-25T03:55:06.352092Z"
    },
    "papermill": {
     "duration": 35.549393,
     "end_time": "2022-08-25T03:55:06.355365",
     "exception": false,
     "start_time": "2022-08-25T03:54:30.805972",
     "status": "completed"
    },
    "tags": []
   },
   "outputs": [
    {
     "name": "stdout",
     "output_type": "stream",
     "text": [
      "FOLD 0: 0.594577079738948\n",
      "FOLD 1: 0.5949754839671584\n",
      "FOLD 2: 0.5895783987828391\n",
      "FOLD 3: 0.6039000315133525\n",
      "FOLD 4: 0.5992461801384118\n",
      "FOLD 5: 0.5867346680118225\n",
      "FOLD 6: 0.6013345094997407\n",
      "FOLD 7: 0.5544721568892874\n",
      "FOLD 8: 0.5781255016873594\n",
      "FOLD 9: 0.6150023743014399\n",
      "\n",
      " Total Average: 0.5917946384530359\n"
     ]
    }
   ],
   "source": [
    "scores =[]\n",
    "\n",
    "for i in range(10):\n",
    "    y_train = train_list[i][1]\n",
    "    X_train = train_list[i][0].drop(['product_code','failure'], axis=1)\n",
    "    \n",
    "    y_test = test_list[i][1]\n",
    "    X_test = test_list[i][0].drop(['product_code','failure'],axis=1)\n",
    "    \n",
    "    model = LogisticRegression(max_iter=500, C=1, penalty='none', solver='saga')\n",
    "    \n",
    "    # Fit model\n",
    "    model.fit(X_train, y_train)\n",
    "    \n",
    "    # Get predictions\n",
    "    score = roc_auc_score(y_test,model.predict_proba(X_test)[:,1])\n",
    "    scores.append(score)\n",
    "    \n",
    "    test_predictions.append(model.predict_proba(test_df.drop('product_code',axis=1))[:,1])\n",
    "    \n",
    "    print(f'FOLD {i}: {score}')\n",
    "\n",
    "print('')\n",
    "print(f' Total Average: {np.mean(scores)}')"
   ]
  },
  {
   "cell_type": "code",
   "execution_count": 4,
   "id": "ae8d227b",
   "metadata": {
    "execution": {
     "iopub.execute_input": "2022-08-25T03:55:06.367505Z",
     "iopub.status.busy": "2022-08-25T03:55:06.366633Z",
     "iopub.status.idle": "2022-08-25T03:55:06.632990Z",
     "shell.execute_reply": "2022-08-25T03:55:06.631950Z"
    },
    "papermill": {
     "duration": 0.275382,
     "end_time": "2022-08-25T03:55:06.635163",
     "exception": false,
     "start_time": "2022-08-25T03:55:06.359781",
     "status": "completed"
    },
    "tags": []
   },
   "outputs": [],
   "source": [
    "predictions = [np.mean(a) for a in zip(*test_predictions)]"
   ]
  },
  {
   "cell_type": "code",
   "execution_count": 5,
   "id": "2121cba4",
   "metadata": {
    "execution": {
     "iopub.execute_input": "2022-08-25T03:55:06.643674Z",
     "iopub.status.busy": "2022-08-25T03:55:06.643363Z",
     "iopub.status.idle": "2022-08-25T03:55:06.668559Z",
     "shell.execute_reply": "2022-08-25T03:55:06.667575Z"
    },
    "papermill": {
     "duration": 0.03207,
     "end_time": "2022-08-25T03:55:06.670816",
     "exception": false,
     "start_time": "2022-08-25T03:55:06.638746",
     "status": "completed"
    },
    "tags": []
   },
   "outputs": [],
   "source": [
    "submission = pd.read_csv('../input/tabular-playground-series-aug-2022/sample_submission.csv', index_col='id')\n",
    "submission['failure'] = predictions"
   ]
  },
  {
   "cell_type": "code",
   "execution_count": 6,
   "id": "f9549144",
   "metadata": {
    "execution": {
     "iopub.execute_input": "2022-08-25T03:55:06.679293Z",
     "iopub.status.busy": "2022-08-25T03:55:06.678989Z",
     "iopub.status.idle": "2022-08-25T03:55:06.727850Z",
     "shell.execute_reply": "2022-08-25T03:55:06.726831Z"
    },
    "papermill": {
     "duration": 0.055507,
     "end_time": "2022-08-25T03:55:06.729951",
     "exception": false,
     "start_time": "2022-08-25T03:55:06.674444",
     "status": "completed"
    },
    "tags": []
   },
   "outputs": [],
   "source": [
    "submission.to_csv('submission_1')"
   ]
  },
  {
   "cell_type": "code",
   "execution_count": null,
   "id": "b135ce16",
   "metadata": {
    "papermill": {
     "duration": 0.003262,
     "end_time": "2022-08-25T03:55:06.736808",
     "exception": false,
     "start_time": "2022-08-25T03:55:06.733546",
     "status": "completed"
    },
    "tags": []
   },
   "outputs": [],
   "source": []
  }
 ],
 "metadata": {
  "kernelspec": {
   "display_name": "Python 3",
   "language": "python",
   "name": "python3"
  },
  "language_info": {
   "codemirror_mode": {
    "name": "ipython",
    "version": 3
   },
   "file_extension": ".py",
   "mimetype": "text/x-python",
   "name": "python",
   "nbconvert_exporter": "python",
   "pygments_lexer": "ipython3",
   "version": "3.7.12"
  },
  "papermill": {
   "default_parameters": {},
   "duration": 85.477796,
   "end_time": "2022-08-25T03:55:07.461488",
   "environment_variables": {},
   "exception": null,
   "input_path": "__notebook__.ipynb",
   "output_path": "__notebook__.ipynb",
   "parameters": {},
   "start_time": "2022-08-25T03:53:41.983692",
   "version": "2.3.4"
  }
 },
 "nbformat": 4,
 "nbformat_minor": 5
}
